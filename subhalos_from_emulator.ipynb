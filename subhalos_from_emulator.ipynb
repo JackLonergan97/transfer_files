{
 "cells": [
  {
   "cell_type": "code",
   "execution_count": 1,
   "id": "801de571",
   "metadata": {},
   "outputs": [],
   "source": [
    "from pyHalo.Halos.HaloModels.TNFW import TNFWSubhalo\n",
    "from pyHalo.Halos.lens_cosmo import LensCosmo\n",
    "import numpy as np"
   ]
  },
  {
   "cell_type": "markdown",
   "id": "2f913c94",
   "metadata": {},
   "source": [
    "### Simulate emulator output "
   ]
  },
  {
   "cell_type": "code",
   "execution_count": 2,
   "id": "0296a250",
   "metadata": {},
   "outputs": [],
   "source": [
    "# here we'll just pretend we have some information output by the emulator\n",
    "infall_mass = 10 ** 8\n",
    "infall_concentration = 16\n",
    "final_bound_mass = 5 * 10**7\n",
    "x_coordinate = 20 # projected x position [kpc]\n",
    "y_coordinate = 10 # projected y position [kpc]\n",
    "\n",
    "# this should be the redshift at the time of lensing, which should also be the time when the final bound mass is evaluated\n",
    "redshift = 0.5 \n",
    "# we also need the source redshift for a conversion into angular units; \n",
    "# this can eventually be a user-specified arguement, for now just assume z_source = 2\n",
    "source_redshift = 2.0\n",
    "\n",
    "\n",
    "# need to create an instance of a LensCosmo class\n",
    "lens_cosmo = LensCosmo(redshift, source_redshift)\n"
   ]
  },
  {
   "cell_type": "markdown",
   "id": "653d3b68",
   "metadata": {},
   "source": [
    "### Halo density profile\n",
    "\n",
    "We need to stick with halo density profiles for which we can analytically compute the deflection angles. The profile implemented in pyHalo has the following form\n",
    "\n",
    "\\begin{equation}\n",
    "\\rho\\left(r\\right) = \\rho_s \\frac{1}{x \\left(1+x\\right)^2} \\frac{\\tau^2}{\\tau^2 + x^2}\n",
    "\\end{equation}\n",
    "\n",
    "where $\\rho_s$ is the characteristic central density, $x \\equiv r / r_s$, and $\\tau = r_t / r_s$. Here, $r_s$ is the halo scale radius, and $r_t$ is effectively a truncation radius where the logarithmic slope transitions to $-5$. If we know the final bound mass, the concentration, and the mass at infall, we can solve for $r_t$, which is done in the following cell. "
   ]
  },
  {
   "cell_type": "code",
   "execution_count": 3,
   "id": "91132ebd",
   "metadata": {},
   "outputs": [
    {
     "name": "stdout",
     "output_type": "stream",
     "text": [
      "0.11738025168567481\n",
      "r_t over r_s:  1.310328694724475\n"
     ]
    }
   ],
   "source": [
    "from scipy.interpolate import interp1d\n",
    "from scipy.interpolate import RegularGridInterpolator\n",
    "\n",
    "\n",
    "def tnfw_mass_fraction(tau, c):\n",
    "    \"\"\"\n",
    "    This function returns the fraction = final_mass/initial_mass, assuming a truncated NFW profile\n",
    "    :param tau: the truncation radius in units of the scale radius \n",
    "    :param c: the halo concentration\n",
    "    \"\"\"\n",
    "    x = c\n",
    "    Rs = 1.0\n",
    "    r_trunc = tau * Rs\n",
    "    func = (r_trunc ** 2 * (-2 * x * (1 + r_trunc ** 2) + 4 * (1 + x) * r_trunc * np.arctan(x / r_trunc) -\n",
    "                            2 * (1 + x) * (-1 + r_trunc ** 2) * np.log(Rs) + 2 * (1 + x) * (-1 + r_trunc ** 2) * np.log(Rs * (1 + x)) +\n",
    "                            2 * (1 + x) * (-1 + r_trunc ** 2) * np.log(Rs * r_trunc) -\n",
    "                            (1 + x) * (-1 + r_trunc ** 2) * np.log(Rs ** 2 * (x ** 2 + r_trunc ** 2)))) / (2. * (1 + x) * (1 + r_trunc ** 2) ** 2)\n",
    "    mass_loss = func / (np.log(1+c)-c/(1+c))\n",
    "    return mass_loss\n",
    "    \n",
    "def tau_mf_interpolator():\n",
    "\n",
    "    N = 100\n",
    "    tau = np.logspace(-2, 3, N)\n",
    "    concentration = np.linspace(1.1, 100, N)\n",
    "    # mass_fraction_1d = np.logspace(-1.45, -0.02, N)\n",
    "    mass_fraction_1d = np.logspace(-2, -0.01, N)\n",
    "    log10tau_2d = np.zeros((N, N))\n",
    "\n",
    "    # This computes the value of tau that correponds to each pair of (concentration, mass_loss) \n",
    "    for i, con_i in enumerate(concentration):\n",
    "        log10final_mass = np.log10(tnfw_mass_fraction(tau, con_i))\n",
    "        mfinterp = interp1d(log10final_mass, np.log10(tau))\n",
    "        for j, mass_j in enumerate(mass_fraction_1d):\n",
    "            log10t = mfinterp(np.log10(mass_j))\n",
    "            log10tau_2d[i,j] = log10t\n",
    "\n",
    "    interp_points = (np.log10(concentration), np.log10(mass_fraction_1d))\n",
    "    interpolator = RegularGridInterpolator(interp_points,log10tau_2d, bounds_error=False)\n",
    "    return interpolator\n",
    "\n",
    "# we will call this in the new subhalo class\n",
    "truncation_radius_interpolator = tau_mf_interpolator()\n",
    "# EXAMPLE:\n",
    "c = 15\n",
    "log10_c = np.log10(c)\n",
    "infall_mass = 10 ** 8\n",
    "final_bound_mass = 2.0 * 10**7\n",
    "log10_fraction = np.log10(final_bound_mass/infall_mass)\n",
    "point = (log10_c, log10_fraction)\n",
    "log10_tau = truncation_radius_interpolator(point)\n",
    "print(log10_tau)\n",
    "print('r_t over r_s: ', 10 ** log10_tau)\n"
   ]
  },
  {
   "cell_type": "markdown",
   "id": "1ecf006e",
   "metadata": {},
   "source": [
    "### This is the class we will eventually put into pyHalo (togetherr with the interpolation function above)"
   ]
  },
  {
   "cell_type": "code",
   "execution_count": 4,
   "id": "f1ba2fe7",
   "metadata": {},
   "outputs": [],
   "source": [
    "from pyHalo.Halos.halo_base import Halo\n",
    "\n",
    "class TNFWSubhaloEmulator(Halo):\n",
    "    \"\"\"\n",
    "    Defines a truncated NFW halo that is a subhalo of the host dark matter halo\n",
    "    \"\"\"\n",
    "    def __init__(self, infall_mass, x, y, final_bound_mass, infall_concentration, redshift, \n",
    "                 lens_cosmo_instance, unique_tag=None):\n",
    "        \"\"\"\n",
    "        See documentation in base class (Halos/halo_base.py)\n",
    "        \"\"\"\n",
    "        self._lens_cosmo = lens_cosmo_instance\n",
    "        \n",
    "        r3d = None\n",
    "        profile_definition = 'TNFW'\n",
    "        sub_flag = True\n",
    "        args = None\n",
    "        if unique_tag is None:\n",
    "            unique_tag = np.random.rand()\n",
    "        \n",
    "        # set the concentration\n",
    "        self.c = infall_concentration\n",
    "        self._bound_mass_fraction = final_bound_mass/infall_mass\n",
    "        x_arcsec = x / self._lens_cosmo.cosmo.kpc_proper_per_asec(redshift)\n",
    "        y_arcsec = y / self._lens_cosmo.cosmo.kpc_proper_per_asec(redshift)\n",
    "        super(TNFWSubhaloEmulator, self).__init__(infall_mass, x_arcsec, y_arcsec, r3d, profile_definition, redshift, sub_flag,\n",
    "                                           lens_cosmo_instance, args, unique_tag)\n",
    "        \n",
    "    @property\n",
    "    def lenstronomy_params(self):\n",
    "        \"\"\"\n",
    "        See documentation in base class (Halos/halo_base.py)\n",
    "        \"\"\"\n",
    "        if not hasattr(self, '_kwargs_lenstronomy'):\n",
    "\n",
    "            [concentration, rt] = self.profile_args\n",
    "            Rs_angle, theta_Rs = self._lens_cosmo.nfw_physical2angle(self.mass, concentration, self.z)\n",
    "\n",
    "            x, y = np.round(self.x, 4), np.round(self.y, 4)\n",
    "\n",
    "            Rs_angle = np.round(Rs_angle, 10)\n",
    "            theta_Rs = np.round(theta_Rs, 10)\n",
    "            r_trunc_arcsec = rt / self._lens_cosmo.cosmo.kpc_proper_per_asec(self.z)\n",
    "\n",
    "            kwargs = [{'alpha_Rs': self._rescale_norm * theta_Rs, 'Rs': Rs_angle,\n",
    "                      'center_x': x, 'center_y': y, 'r_trunc': r_trunc_arcsec}]\n",
    "\n",
    "            self._kwargs_lenstronomy = kwargs\n",
    "\n",
    "        return self._kwargs_lenstronomy, None\n",
    "        \n",
    "    @property\n",
    "    def profile_args(self):\n",
    "        \"\"\"\n",
    "        See documentation in base class (Halos/halo_base.py)\n",
    "        \"\"\"\n",
    "        if not hasattr(self, '_profile_args'):\n",
    "            point = (np.log10(self.c), np.log10(self._bound_mass_fraction))\n",
    "            truncation_radius_kpc = truncation_radius_interpolator(point)\n",
    "\n",
    "            self._profile_args = (self.c, float(truncation_radius_kpc))\n",
    "\n",
    "        return self._profile_args\n",
    "\n",
    "    @property\n",
    "    def params_physical(self):\n",
    "        \"\"\"\n",
    "        See documentation in base class (Halos/halo_base.py)\n",
    "        \"\"\"\n",
    "        if not hasattr(self, '_params_physical'):\n",
    "            [concentration, rt] = self.profile_args\n",
    "            rhos, rs, r200 = self._lens_cosmo.NFW_params_physical(self.mass, concentration, self.z)\n",
    "            self._params_physical = {'rhos': rhos, 'rs': rs, 'r200': r200, 'r_trunc_kpc': rt}\n",
    "\n",
    "        return self._params_physical\n",
    "    \n",
    "    @property\n",
    "    def lenstronomy_ID(self):\n",
    "        \"\"\"\n",
    "        See documentation in base class (Halos/halo_base.py)\n",
    "        \"\"\"\n",
    "\n",
    "        return ['TNFW']"
   ]
  },
  {
   "cell_type": "code",
   "execution_count": 5,
   "id": "8ab1406f",
   "metadata": {},
   "outputs": [
    {
     "name": "stdout",
     "output_type": "stream",
     "text": [
      "keyword arguements:  [{'alpha_Rs': 0.0007951274, 'Rs': 0.0808691769, 'center_x': 3.1693, 'center_y': 1.5847, 'r_trunc': 0.02081310492864744}]\n",
      "lens model:  ['TNFW']\n"
     ]
    }
   ],
   "source": [
    "# single halo\n",
    "truncated_nfw_profile = TNFWSubhaloEmulator(infall_mass, x_coordinate, y_coordinate, \n",
    "                                            final_bound_mass, infall_concentration, redshift, lens_cosmo)\n",
    "keyword_arguments_lenstronomy, _ = truncated_nfw_profile.lenstronomy_params\n",
    "print('keyword arguements: ', keyword_arguments_lenstronomy)\n",
    "print('lens model: ', truncated_nfw_profile.lenstronomy_ID)"
   ]
  },
  {
   "cell_type": "markdown",
   "id": "a74f36f9",
   "metadata": {},
   "source": [
    "### create a full population of halos"
   ]
  },
  {
   "cell_type": "code",
   "execution_count": 6,
   "id": "7236e4d9",
   "metadata": {},
   "outputs": [],
   "source": [
    "from pyHalo.single_realization import Realization\n",
    "from pyHalo.defaults import set_default_kwargs\n",
    "\n",
    "masses = 10**np.random.randint(6, 10, 100)\n",
    "xpositions_kpc = 30*np.random.randn(100)\n",
    "ypositions_kpc = 30*np.random.randn(100)\n",
    "final_bound_masses = np.absolute(np.random.randn(100)) * masses\n",
    "redshifts = [redshift] * len(masses)\n",
    "infall_concentrations = np.random.uniform(8, 25, size=len(masses))\n",
    "halo_list = []\n",
    "for i in range(0, len(masses)):\n",
    "    halo = TNFWSubhaloEmulator(masses[i], xpositions_kpc[i], ypositions_kpc[i], final_bound_masses[i], infall_concentrations[i],\n",
    "                              redshifts[i], lens_cosmo)\n",
    "    halo_list.append(halo)\n",
    "\n",
    "minimum_mass_emulator = 10 ** 6\n",
    "maximum_mass_emulator = 10 ** 10\n",
    "kwargs_setup = {'log_mlow': np.log10(minimum_mass_emulator),\n",
    "               'log_mhigh': np.log10(maximum_mass_emulator)}\n",
    "prof_params = set_default_kwargs(kwargs_setup, source_redshift)\n",
    "realization = Realization.from_halos(halo_list, lens_cosmo, prof_params, msheet_correction=False, rendering_classes=None)\n",
    "    "
   ]
  },
  {
   "cell_type": "code",
   "execution_count": 7,
   "id": "d22e499e",
   "metadata": {},
   "outputs": [
    {
     "name": "stdout",
     "output_type": "stream",
     "text": [
      "(['TNFW', 'TNFW', 'TNFW', 'TNFW', 'TNFW', 'TNFW', 'TNFW', 'TNFW', 'TNFW', 'TNFW', 'TNFW', 'TNFW', 'TNFW', 'TNFW', 'TNFW', 'TNFW', 'TNFW', 'TNFW', 'TNFW', 'TNFW', 'TNFW', 'TNFW', 'TNFW', 'TNFW', 'TNFW', 'TNFW', 'TNFW', 'TNFW', 'TNFW', 'TNFW', 'TNFW', 'TNFW', 'TNFW', 'TNFW', 'TNFW', 'TNFW', 'TNFW', 'TNFW', 'TNFW', 'TNFW', 'TNFW', 'TNFW', 'TNFW', 'TNFW', 'TNFW', 'TNFW', 'TNFW', 'TNFW', 'TNFW', 'TNFW', 'TNFW', 'TNFW', 'TNFW', 'TNFW', 'TNFW', 'TNFW', 'TNFW', 'TNFW', 'TNFW', 'TNFW', 'TNFW', 'TNFW', 'TNFW', 'TNFW', 'TNFW', 'TNFW', 'TNFW', 'TNFW', 'TNFW', 'TNFW', 'TNFW', 'TNFW', 'TNFW', 'TNFW', 'TNFW', 'TNFW', 'TNFW', 'TNFW', 'TNFW', 'TNFW', 'TNFW', 'TNFW', 'TNFW', 'TNFW', 'TNFW', 'TNFW', 'TNFW', 'TNFW', 'TNFW', 'TNFW', 'TNFW', 'TNFW', 'TNFW', 'TNFW', 'TNFW', 'TNFW', 'TNFW', 'TNFW', 'TNFW', 'TNFW'], [0.5, 0.5, 0.5, 0.5, 0.5, 0.5, 0.5, 0.5, 0.5, 0.5, 0.5, 0.5, 0.5, 0.5, 0.5, 0.5, 0.5, 0.5, 0.5, 0.5, 0.5, 0.5, 0.5, 0.5, 0.5, 0.5, 0.5, 0.5, 0.5, 0.5, 0.5, 0.5, 0.5, 0.5, 0.5, 0.5, 0.5, 0.5, 0.5, 0.5, 0.5, 0.5, 0.5, 0.5, 0.5, 0.5, 0.5, 0.5, 0.5, 0.5, 0.5, 0.5, 0.5, 0.5, 0.5, 0.5, 0.5, 0.5, 0.5, 0.5, 0.5, 0.5, 0.5, 0.5, 0.5, 0.5, 0.5, 0.5, 0.5, 0.5, 0.5, 0.5, 0.5, 0.5, 0.5, 0.5, 0.5, 0.5, 0.5, 0.5, 0.5, 0.5, 0.5, 0.5, 0.5, 0.5, 0.5, 0.5, 0.5, 0.5, 0.5, 0.5, 0.5, 0.5, 0.5, 0.5, 0.5, 0.5, 0.5, 0.5], [{'alpha_Rs': 3.03517e-05, 'Rs': 0.0258146692, 'center_x': 3.2016, 'center_y': 12.5288, 'r_trunc': nan}, {'alpha_Rs': 0.000182046, 'Rs': 0.0335443592, 'center_x': 5.7706, 'center_y': -1.267, 'r_trunc': nan}, {'alpha_Rs': 3.46251e-05, 'Rs': 0.0196901631, 'center_x': 0.5508, 'center_y': -0.2518, 'r_trunc': nan}, {'alpha_Rs': 0.0026836856, 'Rs': 0.3435513096, 'center_x': -0.0192, 'center_y': 10.5791, 'r_trunc': nan}, {'alpha_Rs': 3.82697e-05, 'Rs': 0.0162854349, 'center_x': -3.2524, 'center_y': -14.3504, 'r_trunc': nan}, {'alpha_Rs': 0.0042133784, 'Rs': 0.1369840869, 'center_x': 13.7928, 'center_y': -5.5927, 'r_trunc': -0.049844619748655304}, {'alpha_Rs': 0.0002154314, 'Rs': 0.0249841949, 'center_x': -5.8605, 'center_y': -7.25, 'r_trunc': nan}, {'alpha_Rs': 0.0002095365, 'Rs': 0.0261891096, 'center_x': -6.1001, 'center_y': 1.0771, 'r_trunc': 0.18235650637755918}, {'alpha_Rs': 3.60495e-05, 'Rs': 0.0182153808, 'center_x': 3.8627, 'center_y': 1.5885, 'r_trunc': nan}, {'alpha_Rs': 0.0028658391, 'Rs': 0.293485892, 'center_x': -0.8952, 'center_y': 0.067, 'r_trunc': nan}, {'alpha_Rs': 0.0008518656, 'Rs': 0.071212669, 'center_x': -0.4741, 'center_y': 3.0401, 'r_trunc': 0.08781448641929286}, {'alpha_Rs': 2.86937e-05, 'Rs': 0.0292655331, 'center_x': 3.9556, 'center_y': -5.6681, 'r_trunc': 0.032349924394022525}, {'alpha_Rs': 0.0046952219, 'Rs': 0.1137324393, 'center_x': -6.567, 'center_y': -1.9365, 'r_trunc': 0.03196221553646721}, {'alpha_Rs': 0.0030406501, 'Rs': 0.2571392094, 'center_x': -1.0441, 'center_y': 3.6484, 'r_trunc': 0.011735663925861034}, {'alpha_Rs': 2.87744e-05, 'Rs': 0.0290772898, 'center_x': 0.4757, 'center_y': 0.24, 'r_trunc': 0.11923105952913768}, {'alpha_Rs': 0.0009301063, 'Rs': 0.0609343145, 'center_x': 0.9002, 'center_y': -6.558, 'r_trunc': 0.13569959370344067}, {'alpha_Rs': 0.0033493975, 'Rs': 0.2102780385, 'center_x': -2.4729, 'center_y': 3.7714, 'r_trunc': 0.1292679244252039}, {'alpha_Rs': 3.07846e-05, 'Rs': 0.0250379971, 'center_x': -4.6517, 'center_y': 4.4121, 'r_trunc': 0.03397068539850459}, {'alpha_Rs': 0.0001506706, 'Rs': 0.0482709437, 'center_x': 9.7168, 'center_y': -7.2048, 'r_trunc': 0.07664750550238643}, {'alpha_Rs': 4.31968e-05, 'Rs': 0.0131146635, 'center_x': -0.524, 'center_y': -1.8469, 'r_trunc': 0.14119106244937749}, {'alpha_Rs': 0.0045991088, 'Rs': 0.1177727821, 'center_x': -4.8116, 'center_y': -6.1262, 'r_trunc': 0.0866540751856796}, {'alpha_Rs': 0.0033255725, 'Rs': 0.213313031, 'center_x': 2.1675, 'center_y': 2.6184, 'r_trunc': nan}, {'alpha_Rs': 0.0009881448, 'Rs': 0.0549190574, 'center_x': 0.1211, 'center_y': -2.9416, 'r_trunc': 0.036793134563287935}, {'alpha_Rs': 4.14508e-05, 'Rs': 0.0140990824, 'center_x': -4.7522, 'center_y': -3.0336, 'r_trunc': nan}, {'alpha_Rs': 0.0001271418, 'Rs': 0.0703685797, 'center_x': -6.6089, 'center_y': 2.4376, 'r_trunc': 0.10993963478912237}, {'alpha_Rs': 0.000743103, 'Rs': 0.0920868092, 'center_x': 7.2091, 'center_y': 3.0743, 'r_trunc': 0.01408566086206814}, {'alpha_Rs': 0.0001526231, 'Rs': 0.0470197026, 'center_x': 0.7121, 'center_y': -2.0518, 'r_trunc': 0.010936607599123896}, {'alpha_Rs': 0.0001934858, 'Rs': 0.0300740517, 'center_x': -1.9009, 'center_y': -5.0184, 'r_trunc': 0.05548526721930726}, {'alpha_Rs': 3.19561e-05, 'Rs': 0.0231417574, 'center_x': 10.6624, 'center_y': -1.9102, 'r_trunc': nan}, {'alpha_Rs': 0.0001993066, 'Rs': 0.0285502336, 'center_x': 4.2603, 'center_y': -1.6297, 'r_trunc': 0.08453182139457369}, {'alpha_Rs': 0.0026984856, 'Rs': 0.3388706352, 'center_x': 1.9562, 'center_y': 3.2338, 'r_trunc': nan}, {'alpha_Rs': 0.0008023197, 'Rs': 0.0795149194, 'center_x': -0.4376, 'center_y': 9.8321, 'r_trunc': nan}, {'alpha_Rs': 0.0001495536, 'Rs': 0.0490151205, 'center_x': 0.6507, 'center_y': 0.0961, 'r_trunc': nan}, {'alpha_Rs': 0.0009865245, 'Rs': 0.0550721946, 'center_x': -4.4884, 'center_y': -6.1255, 'r_trunc': -0.027596793296799982}, {'alpha_Rs': 0.0007055236, 'Rs': 0.1021462912, 'center_x': 5.5822, 'center_y': 2.9832, 'r_trunc': -0.0938524706384634}, {'alpha_Rs': 4.25518e-05, 'Rs': 0.0134632927, 'center_x': -1.2536, 'center_y': -5.4651, 'r_trunc': 0.1493731920887825}, {'alpha_Rs': 0.0006363274, 'Rs': 0.127226413, 'center_x': 8.4134, 'center_y': 7.7812, 'r_trunc': 0.07224989238633717}, {'alpha_Rs': 0.0007757208, 'Rs': 0.0847440815, 'center_x': -7.2164, 'center_y': -1.7496, 'r_trunc': -0.024158638034769322}, {'alpha_Rs': 0.003580504, 'Rs': 0.1845371069, 'center_x': 6.943, 'center_y': 1.993, 'r_trunc': 0.11874930044421121}, {'alpha_Rs': 3.7473e-05, 'Rs': 0.016932903, 'center_x': 0.6124, 'center_y': -5.3447, 'r_trunc': nan}, {'alpha_Rs': 0.0009038542, 'Rs': 0.0640646453, 'center_x': 5.6252, 'center_y': 7.915, 'r_trunc': 0.07303631974643134}, {'alpha_Rs': 2.92738e-05, 'Rs': 0.0279627047, 'center_x': -10.201, 'center_y': -6.2017, 'r_trunc': nan}, {'alpha_Rs': 0.0043178953, 'Rs': 0.1312407175, 'center_x': 0.914, 'center_y': 0.7136, 'r_trunc': nan}, {'alpha_Rs': 2.742e-05, 'Rs': 0.0325806831, 'center_x': 1.7876, 'center_y': 3.9749, 'r_trunc': 0.02592483867056782}, {'alpha_Rs': 0.0006228078, 'Rs': 0.1335406902, 'center_x': 0.2543, 'center_y': 8.8074, 'r_trunc': 0.1651098605247108}, {'alpha_Rs': 0.0006513303, 'Rs': 0.1208553376, 'center_x': -5.666, 'center_y': 1.4761, 'r_trunc': 0.11872607219934221}, {'alpha_Rs': 4.11448e-05, 'Rs': 0.0142855945, 'center_x': 1.4708, 'center_y': 6.9803, 'r_trunc': 0.10080683755567352}, {'alpha_Rs': 4.71214e-05, 'Rs': 0.0113047048, 'center_x': -7.1808, 'center_y': 0.3431, 'r_trunc': 0.04300742150476831}, {'alpha_Rs': 4.39433e-05, 'Rs': 0.0127311484, 'center_x': 5.7758, 'center_y': 9.5643, 'r_trunc': nan}, {'alpha_Rs': 0.0006210998, 'Rs': 0.1343813027, 'center_x': -9.1968, 'center_y': -4.5641, 'r_trunc': 0.15319023643156357}, {'alpha_Rs': 0.0039320091, 'Rs': 0.1549838355, 'center_x': 2.675, 'center_y': 1.7486, 'r_trunc': 0.1659442958463634}, {'alpha_Rs': 0.0009619036, 'Rs': 0.0574985106, 'center_x': 4.4159, 'center_y': 5.2471, 'r_trunc': 0.27052156250150533}, {'alpha_Rs': 2.97158e-05, 'Rs': 0.0270421775, 'center_x': 7.0096, 'center_y': 0.6558, 'r_trunc': 0.20334894107486134}, {'alpha_Rs': 4.21639e-05, 'Rs': 0.0136812325, 'center_x': 3.2427, 'center_y': -3.9505, 'r_trunc': nan}, {'alpha_Rs': 0.0037808464, 'Rs': 0.1665463152, 'center_x': -2.5845, 'center_y': 0.7737, 'r_trunc': -0.011645538532359577}, {'alpha_Rs': 0.0001662289, 'Rs': 0.0397405543, 'center_x': -0.0072, 'center_y': 3.2622, 'r_trunc': 0.12103555559932587}, {'alpha_Rs': 0.0007688931, 'Rs': 0.0861898154, 'center_x': 0.2536, 'center_y': -1.2616, 'r_trunc': 0.03795494165587187}, {'alpha_Rs': 0.0009806615, 'Rs': 0.0556328881, 'center_x': 0.2072, 'center_y': 0.3779, 'r_trunc': 0.14844632202118885}, {'alpha_Rs': 2.94392e-05, 'Rs': 0.027611299, 'center_x': 8.174, 'center_y': 2.9779, 'r_trunc': 0.09072479670331077}, {'alpha_Rs': 2.78728e-05, 'Rs': 0.0313221151, 'center_x': 3.9228, 'center_y': 0.5645, 'r_trunc': 0.055495933523473276}, {'alpha_Rs': 0.0038295851, 'Rs': 0.1626497273, 'center_x': -9.0456, 'center_y': 4.7661, 'r_trunc': 0.06789388212001915}, {'alpha_Rs': 0.000661742, 'Rs': 0.1167791296, 'center_x': 4.3982, 'center_y': 0.5038, 'r_trunc': 0.13618528295279303}, {'alpha_Rs': 0.0006246297, 'Rs': 0.1326550667, 'center_x': -0.869, 'center_y': -5.9023, 'r_trunc': 0.04144521886394329}, {'alpha_Rs': 0.0007607775, 'Rs': 0.0879685245, 'center_x': -1.4064, 'center_y': -4.54, 'r_trunc': nan}, {'alpha_Rs': 0.0001541207, 'Rs': 0.0461003752, 'center_x': 9.3359, 'center_y': 11.8156, 'r_trunc': 0.09346943572230605}, {'alpha_Rs': 0.0001886354, 'Rs': 0.0314615311, 'center_x': -7.2542, 'center_y': 5.7346, 'r_trunc': 0.196238449579806}, {'alpha_Rs': 0.0001420549, 'Rs': 0.0546260621, 'center_x': -5.6084, 'center_y': 3.9324, 'r_trunc': 0.06732260036027268}, {'alpha_Rs': 0.003115823, 'Rs': 0.2440230652, 'center_x': -8.9422, 'center_y': 0.9791, 'r_trunc': -0.034723344655292115}, {'alpha_Rs': 4.37983e-05, 'Rs': 0.0128040523, 'center_x': 8.5721, 'center_y': -6.5423, 'r_trunc': nan}, {'alpha_Rs': 0.0036528499, 'Rs': 0.1776436703, 'center_x': 2.4651, 'center_y': -9.7144, 'r_trunc': -0.041162397687361005}, {'alpha_Rs': 3.26048e-05, 'Rs': 0.0222036457, 'center_x': -2.4439, 'center_y': -7.1226, 'r_trunc': 0.2036042628528506}, {'alpha_Rs': 4.17808e-05, 'Rs': 0.0139028381, 'center_x': -9.3275, 'center_y': 3.1073, 'r_trunc': 0.178623063785073}, {'alpha_Rs': 0.0009775387, 'Rs': 0.0559357771, 'center_x': -4.2397, 'center_y': -5.9538, 'r_trunc': 0.06817447954451197}, {'alpha_Rs': 0.0001994682, 'Rs': 0.0285099188, 'center_x': -0.78, 'center_y': 3.9674, 'r_trunc': -0.02491266821244233}, {'alpha_Rs': 0.0001522168, 'Rs': 0.0472750589, 'center_x': 0.4209, 'center_y': -0.1773, 'r_trunc': 0.07651120952605528}, {'alpha_Rs': 0.0001860928, 'Rs': 0.032236441, 'center_x': -1.5561, 'center_y': 4.2675, 'r_trunc': 0.21552152250817597}, {'alpha_Rs': 0.0001445626, 'Rs': 0.0526203335, 'center_x': -3.5547, 'center_y': -6.9223, 'r_trunc': 0.11250722990219444}, {'alpha_Rs': 0.0006115256, 'Rs': 0.139288086, 'center_x': 2.7484, 'center_y': 0.8867, 'r_trunc': 0.0388350893605983}, {'alpha_Rs': 0.0006744868, 'Rs': 0.112130267, 'center_x': 4.7088, 'center_y': -1.5734, 'r_trunc': 0.05919104169391373}, {'alpha_Rs': 2.8285e-05, 'Rs': 0.0302556201, 'center_x': 2.1794, 'center_y': -0.004, 'r_trunc': 0.00993386142595546}, {'alpha_Rs': 0.0041042317, 'Rs': 0.1434906086, 'center_x': 8.7001, 'center_y': 9.4273, 'r_trunc': nan}, {'alpha_Rs': 0.0008864288, 'Rs': 0.0663090065, 'center_x': 4.8589, 'center_y': 4.7304, 'r_trunc': 0.15067064489353854}, {'alpha_Rs': 0.0001563177, 'Rs': 0.0448106957, 'center_x': -7.1564, 'center_y': 5.519, 'r_trunc': 0.08608619360149591}, {'alpha_Rs': 0.0001500342, 'Rs': 0.0486923339, 'center_x': -2.3025, 'center_y': 2.6393, 'r_trunc': nan}, {'alpha_Rs': 0.0030796942, 'Rs': 0.2501651781, 'center_x': 3.3242, 'center_y': -4.1137, 'r_trunc': nan}, {'alpha_Rs': 0.0031180202, 'Rs': 0.2436586908, 'center_x': 5.5414, 'center_y': -1.0617, 'r_trunc': 0.04918827300131456}, {'alpha_Rs': 0.0007693483, 'Rs': 0.0860920071, 'center_x': 2.48, 'center_y': 0.83, 'r_trunc': 0.223554172769797}, {'alpha_Rs': 0.0043616484, 'Rs': 0.1289650849, 'center_x': -4.6181, 'center_y': 5.154, 'r_trunc': nan}, {'alpha_Rs': 0.0007507547, 'Rs': 0.0902609902, 'center_x': -1.4594, 'center_y': 2.9837, 'r_trunc': nan}, {'alpha_Rs': 4.51516e-05, 'Rs': 0.0121520853, 'center_x': 3.3858, 'center_y': 4.9921, 'r_trunc': -0.015287486581750243}, {'alpha_Rs': 0.0031388416, 'Rs': 0.2402559576, 'center_x': 0.0348, 'center_y': 2.6214, 'r_trunc': nan}, {'alpha_Rs': 0.0031093771, 'Rs': 0.2450979725, 'center_x': -2.7631, 'center_y': -2.513, 'r_trunc': 0.03989358082473858}, {'alpha_Rs': 0.0046832331, 'Rs': 0.1142225822, 'center_x': -6.0979, 'center_y': -0.8118, 'r_trunc': nan}, {'alpha_Rs': 0.0006219262, 'Rs': 0.1339733018, 'center_x': 3.395, 'center_y': -7.615, 'r_trunc': 0.0885224428340879}, {'alpha_Rs': 0.0030469268, 'Rs': 0.2559934073, 'center_x': 4.1747, 'center_y': 1.6818, 'r_trunc': 0.15192459592256846}, {'alpha_Rs': 0.0001533454, 'Rs': 0.0465721113, 'center_x': 0.1822, 'center_y': -2.6309, 'r_trunc': nan}, {'alpha_Rs': 0.0007864863, 'Rs': 0.0825533682, 'center_x': 2.0424, 'center_y': 0.663, 'r_trunc': nan}, {'alpha_Rs': 0.0001528123, 'Rs': 0.04690169, 'center_x': -1.7159, 'center_y': -3.355, 'r_trunc': nan}, {'alpha_Rs': 0.0001647814, 'Rs': 0.0404134462, 'center_x': -2.0472, 'center_y': 5.4938, 'r_trunc': 0.07424047680202307}, {'alpha_Rs': 0.0005996083, 'Rs': 0.1459004109, 'center_x': -5.5524, 'center_y': 5.1561, 'r_trunc': 0.0608212770731119}], None)\n"
     ]
    }
   ],
   "source": [
    "print(realization.lensing_quantities())"
   ]
  },
  {
   "cell_type": "code",
   "execution_count": null,
   "id": "6091d883",
   "metadata": {},
   "outputs": [],
   "source": []
  }
 ],
 "metadata": {
  "kernelspec": {
   "display_name": "Python 3 (ipykernel)",
   "language": "python",
   "name": "python3"
  },
  "language_info": {
   "codemirror_mode": {
    "name": "ipython",
    "version": 3
   },
   "file_extension": ".py",
   "mimetype": "text/x-python",
   "name": "python",
   "nbconvert_exporter": "python",
   "pygments_lexer": "ipython3",
   "version": "3.7.13"
  }
 },
 "nbformat": 4,
 "nbformat_minor": 5
}
